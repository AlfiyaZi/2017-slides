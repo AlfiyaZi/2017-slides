{
 "cells": [
  {
   "cell_type": "markdown",
   "metadata": {
    "slideshow": {
     "slide_type": "notes"
    }
   },
   "source": [
    "30 min"
   ]
  },
  {
   "cell_type": "markdown",
   "metadata": {
    "slideshow": {
     "slide_type": "slide"
    }
   },
   "source": [
    "<center><h1>PyCon 2017</h1></center>\n",
    "<center><h2>Portland, Oregon</h2></center>\n",
    "\n"
   ]
  },
  {
   "cell_type": "markdown",
   "metadata": {
    "slideshow": {
     "slide_type": "notes"
    }
   },
   "source": [
    "\n",
    "- we are going to talk about fuzzy search.\n",
    "- It's Approximate string matching\n",
    "- Why? Sometime we don't really know what we are looking for"
   ]
  },
  {
   "cell_type": "markdown",
   "metadata": {
    "slideshow": {
     "slide_type": "notes"
    }
   },
   "source": [
    "** Fuzzy Search **    \n",
    "Approximate string matching\n",
    "\n",
    "- Why\n",
    "    - Abbreviation: what does \"LGTM\" mean?\n",
    "    - Misspellings: \"I sware\" or \"I swear\"?\n",
    "    - Lack of whitespaces: BEDBATHANDBEYOND\n",
    "    - Cut-off words\n",
    "    - etc."
   ]
  },
  {
   "cell_type": "markdown",
   "metadata": {
    "slideshow": {
     "slide_type": "notes"
    }
   },
   "source": [
    "\n",
    "- Both US and USA point to the same entity: United States\n",
    "- Fuzzy search usually based on some sort of string distance"
   ]
  },
  {
   "cell_type": "markdown",
   "metadata": {
    "slideshow": {
     "slide_type": "notes"
    }
   },
   "source": [
    "- Applications\n",
    "    - Entity resolution\n",
    "        - \"US\" and \"USA\"\n",
    "    - Search Engines\n",
    "    - Auto correct\n",
    "- Search based on String distance\n",
    "    - Quantify qualitative data for analytical purpose"
   ]
  },
  {
   "cell_type": "markdown",
   "metadata": {
    "slideshow": {
     "slide_type": "skip"
    }
   },
   "source": [
    "**Soundex**\n",
    "\n",
    "- phonetic algorithm\n",
    "- index by sound as pronounced in English\n",
    "- assigns a soundex coding \n",
    "- ideal for spelling inconsistencies"
   ]
  },
  {
   "cell_type": "markdown",
   "metadata": {
    "slideshow": {
     "slide_type": "skip"
    }
   },
   "source": [
    "**American Soundex Coding**\n",
    "\n",
    "[http://www.archives.gov/research/census/soundex.html](http://www.archives.gov/research/census/soundex.html)\n",
    "\n",
    "every soundex code is a letter and three numbers\n",
    "\n",
    "| Number | Letter |\n",
    "|---------|----------|\n",
    "|1|B,F,P,V|\n",
    "|2|C,G,J,K,Q,S,X,Z|\n",
    "|3|D,T|\n",
    "|4|L|\n",
    "|5|M,N|\n",
    "|6|R|\n",
    "\n",
    "Ignore A,E,I,O,U,H,W,Y"
   ]
  },
  {
   "cell_type": "code",
   "execution_count": null,
   "metadata": {
    "slideshow": {
     "slide_type": "slide"
    }
   },
   "outputs": [],
   "source": [
    "import jellyfish as j\n",
    "\n",
    "a=j.soundex('PORTLAND')\n",
    "print(a)\n",
    "b=j.soundex('PRTLAND')\n",
    "print(b)"
   ]
  },
  {
   "cell_type": "code",
   "execution_count": null,
   "metadata": {
    "slideshow": {
     "slide_type": "fragment"
    }
   },
   "outputs": [],
   "source": [
    "# Numbers and Letters\n",
    "a=j.soundex('Word #123')\n",
    "print(a)\n",
    "b=j.soundex('Word')\n",
    "print(b)"
   ]
  },
  {
   "cell_type": "code",
   "execution_count": null,
   "metadata": {
    "slideshow": {
     "slide_type": "slide"
    }
   },
   "outputs": [],
   "source": [
    "a=j.soundex('accept')\n",
    "print(a)\n",
    "a2=j.soundex('except')\n",
    "print(a2)"
   ]
  },
  {
   "cell_type": "code",
   "execution_count": null,
   "metadata": {
    "slideshow": {
     "slide_type": "fragment"
    }
   },
   "outputs": [],
   "source": [
    "#homophones\n",
    "a=j.soundex('ado')\n",
    "print(a)\n",
    "a2=j.soundex('adieu')\n",
    "print(a2)"
   ]
  },
  {
   "cell_type": "code",
   "execution_count": null,
   "metadata": {
    "slideshow": {
     "slide_type": "slide"
    }
   },
   "outputs": [],
   "source": [
    "a=j.soundex('forth')\n",
    "print(a)\n",
    "a2=j.soundex('fourth')\n",
    "print(a2)"
   ]
  },
  {
   "cell_type": "markdown",
   "metadata": {
    "slideshow": {
     "slide_type": "slide"
    }
   },
   "source": [
    "\n",
    "Soundex with PostgreSQL\n",
    "\n",
    "https://www.postgresql.org/docs/9.1/static/fuzzystrmatch.html\n",
    "\n",
    "`CREATE EXTENSION fuzzystrmatch;`"
   ]
  },
  {
   "cell_type": "code",
   "execution_count": null,
   "metadata": {
    "collapsed": true,
    "slideshow": {
     "slide_type": "slide"
    }
   },
   "outputs": [],
   "source": [
    "from sqlalchemy import create_engine\n",
    "\n",
    "engine = create_engine('postgresql://jiaqi@localhost/pycon')\n",
    "connection = engine.connect()"
   ]
  },
  {
   "cell_type": "code",
   "execution_count": null,
   "metadata": {
    "slideshow": {
     "slide_type": "fragment"
    }
   },
   "outputs": [],
   "source": [
    "from sqlalchemy.sql import text\n",
    "\n",
    "query = \"select soundex('Anne'), soundex('Ann'), difference('Anne','Ann')\"\n",
    "res = engine.execute(text(query))\n",
    "res.fetchall()"
   ]
  },
  {
   "cell_type": "markdown",
   "metadata": {
    "slideshow": {
     "slide_type": "slide"
    }
   },
   "source": [
    "Create Table & Load Data\n",
    "\n",
    "`Create table pypi \n",
    "(packages varchar, description varchar);`\n",
    "\n",
    "`COPY pypi from 'pypi.csv' delimiter ',' csv;`"
   ]
  },
  {
   "cell_type": "code",
   "execution_count": null,
   "metadata": {
    "slideshow": {
     "slide_type": "slide"
    }
   },
   "outputs": [],
   "source": [
    "query = \"\"\"\n",
    "        SELECT    packages \n",
    "        FROM      pypi \n",
    "        WHERE     soundex(packages) = soundex('fuzzysearch')\"\"\"\n",
    "res = engine.execute(text(query))\n",
    "res.fetchall()"
   ]
  },
  {
   "cell_type": "code",
   "execution_count": null,
   "metadata": {
    "slideshow": {
     "slide_type": "slide"
    }
   },
   "outputs": [],
   "source": [
    "query = \"\"\"\n",
    "        SELECT    description\n",
    "        FROM      pypi \n",
    "        WHERE     soundex(description) = soundex('fuzzysearch')\"\"\"\n",
    "res = engine.execute(text(query))\n",
    "res.fetchall()"
   ]
  },
  {
   "cell_type": "code",
   "execution_count": null,
   "metadata": {
    "slideshow": {
     "slide_type": "slide"
    }
   },
   "outputs": [],
   "source": [
    "query = \"\"\"\n",
    "        SELECT    description\n",
    "        FROM      pypi \n",
    "        WHERE     difference(description, 'fuzzysearch') > 2 limit 10\"\"\"\n",
    "res = engine.execute(text(query))\n",
    "res.fetchall()"
   ]
  },
  {
   "cell_type": "markdown",
   "metadata": {
    "slideshow": {
     "slide_type": "notes"
    }
   },
   "source": [
    "**Soundex**\n",
    "- Soundex is pretty easy to implement\n",
    "- Computationally fast\n",
    "- only works on ASCII characters (no foreign languages)\n",
    "- How do you calculate distance"
   ]
  },
  {
   "cell_type": "markdown",
   "metadata": {
    "slideshow": {
     "slide_type": "notes"
    }
   },
   "source": [
    "**Levenshtein distance**\n",
    "- also call edit distance\n",
    "- accounts for how many characters you have to change to have the same string\n",
    "- computationally fast (can handle real time processing)\n",
    "- pairwise comparison"
   ]
  },
  {
   "cell_type": "code",
   "execution_count": null,
   "metadata": {
    "slideshow": {
     "slide_type": "slide"
    }
   },
   "outputs": [],
   "source": [
    "import Levenshtein as l\n",
    "\n",
    "l.distance('SMYTHE', 'SMITH')"
   ]
  },
  {
   "cell_type": "code",
   "execution_count": null,
   "metadata": {
    "slideshow": {
     "slide_type": "-"
    }
   },
   "outputs": [],
   "source": [
    "l.distance('pypi', 'pypy')"
   ]
  },
  {
   "cell_type": "markdown",
   "metadata": {
    "slideshow": {
     "slide_type": "slide"
    }
   },
   "source": [
    "Pitfall: Comparing Addresses"
   ]
  },
  {
   "cell_type": "code",
   "execution_count": null,
   "metadata": {
    "slideshow": {
     "slide_type": "-"
    }
   },
   "outputs": [],
   "source": [
    "str99 = '99 Broadway'\n",
    "str100 = '100 Broadway'\n",
    "str999 = '999 Broadway'\n",
    "\n",
    "l.distance(str99, str100)"
   ]
  },
  {
   "cell_type": "code",
   "execution_count": null,
   "metadata": {
    "slideshow": {
     "slide_type": "fragment"
    }
   },
   "outputs": [],
   "source": [
    "l.distance(str99, str999)"
   ]
  },
  {
   "cell_type": "code",
   "execution_count": null,
   "metadata": {
    "slideshow": {
     "slide_type": "fragment"
    }
   },
   "outputs": [],
   "source": [
    "l.distance(str999, str100)"
   ]
  },
  {
   "cell_type": "markdown",
   "metadata": {
    "slideshow": {
     "slide_type": "slide"
    }
   },
   "source": [
    "Longer Strings"
   ]
  },
  {
   "cell_type": "code",
   "execution_count": null,
   "metadata": {},
   "outputs": [],
   "source": [
    "str1='Mike\\'s New York Deli and co'\n",
    "str2='Sam\\'s New York Deli and co'\n",
    "l.distance(str1,str2)"
   ]
  },
  {
   "cell_type": "code",
   "execution_count": null,
   "metadata": {
    "slideshow": {
     "slide_type": "fragment"
    }
   },
   "outputs": [],
   "source": [
    "import Levenshtein as l\n",
    "str1='Mike\\'s Deli'\n",
    "str2='Sam\\'s Deli'\n",
    "l.distance(str1,str2)"
   ]
  },
  {
   "cell_type": "markdown",
   "metadata": {
    "slideshow": {
     "slide_type": "slide"
    }
   },
   "source": [
    "**Levenshtein**\n",
    "- counting raw edits penalizes long strings: use a ratio of edits to length\n",
    "- weighing numbers differently from letters"
   ]
  },
  {
   "cell_type": "markdown",
   "metadata": {
    "slideshow": {
     "slide_type": "slide"
    }
   },
   "source": [
    "N-grams"
   ]
  },
  {
   "cell_type": "code",
   "execution_count": null,
   "metadata": {
    "collapsed": true,
    "slideshow": {
     "slide_type": "-"
    }
   },
   "outputs": [],
   "source": [
    "def ngram(tokens, n):\n",
    "    grams =[tokens[i:i+n] for i in range(len(tokens)-(n-1))]\n",
    "    return grams"
   ]
  },
  {
   "cell_type": "code",
   "execution_count": null,
   "metadata": {
    "slideshow": {
     "slide_type": "fragment"
    }
   },
   "outputs": [],
   "source": [
    "sentence_gram = \"The quick brown fox jumped over a lazy dog\".split()\n",
    "grams = ngram(sentence_gram, 3)\n",
    "\n",
    "for gram in grams:\n",
    "    print(gram)"
   ]
  },
  {
   "cell_type": "code",
   "execution_count": null,
   "metadata": {
    "slideshow": {
     "slide_type": "slide"
    }
   },
   "outputs": [],
   "source": [
    "word_gram = \"pycon2017\"\n",
    "grams = ngram(word_gram, 3)\n",
    "\n",
    "for gram in grams:\n",
    "    print(gram)"
   ]
  },
  {
   "cell_type": "markdown",
   "metadata": {
    "slideshow": {
     "slide_type": "slide"
    }
   },
   "source": [
    "**Scoring Similarity: Jaccard similarity**\n",
    "\n",
    "intersection over the union "
   ]
  },
  {
   "cell_type": "code",
   "execution_count": null,
   "metadata": {
    "collapsed": true,
    "slideshow": {
     "slide_type": "slide"
    }
   },
   "outputs": [],
   "source": [
    "def get_sim(a_tri,b_tri):\n",
    "    intersect = len(set(a_tri) & set(b_tri))\n",
    "    union = len(set(a_tri) | set(b_tri))\n",
    "    return float(intersect)/(union)"
   ]
  },
  {
   "cell_type": "code",
   "execution_count": null,
   "metadata": {
    "slideshow": {
     "slide_type": "fragment"
    }
   },
   "outputs": [],
   "source": [
    "print(grams)\n",
    "get_sim(grams, grams)"
   ]
  },
  {
   "cell_type": "code",
   "execution_count": null,
   "metadata": {
    "slideshow": {
     "slide_type": "slide"
    }
   },
   "outputs": [],
   "source": [
    "a_gram = ngram('aabcccdeeeffgghhh', 3)\n",
    "b_gram = ngram('abcccdeeffgghhh', 3)\n",
    "get_sim(a_gram, b_gram)"
   ]
  },
  {
   "cell_type": "markdown",
   "metadata": {
    "slideshow": {
     "slide_type": "slide"
    }
   },
   "source": [
    "\n",
    "Trigam Search with Postgres\n",
    "\n",
    "https://www.postgresql.org/docs/9.1/static/pgtrgm.html\n",
    "\n",
    "`create extension pg_trgm;`"
   ]
  },
  {
   "cell_type": "code",
   "execution_count": null,
   "metadata": {
    "collapsed": true,
    "slideshow": {
     "slide_type": "slide"
    }
   },
   "outputs": [],
   "source": [
    "from sqlalchemy import create_engine\n",
    "\n",
    "engine = create_engine('postgresql://jiaqi@localhost/pycon')\n",
    "connection = engine.connect()"
   ]
  },
  {
   "cell_type": "code",
   "execution_count": null,
   "metadata": {
    "collapsed": true,
    "slideshow": {
     "slide_type": "slide"
    }
   },
   "outputs": [],
   "source": [
    "query_des=\"\"\"\n",
    "    SELECT \n",
    "                a.description, \n",
    "                similarity(lower(a.description), :descript) as similarity \n",
    "    FROM        pypi as a \n",
    "    WHERE       lower(a.description) % :descript\n",
    "    ORDER BY    similarity DESC\"\"\""
   ]
  },
  {
   "cell_type": "code",
   "execution_count": null,
   "metadata": {
    "collapsed": true,
    "slideshow": {
     "slide_type": "slide"
    }
   },
   "outputs": [],
   "source": [
    "from sqlalchemy.sql import text\n",
    "\n",
    "description = 'fuzzy search'\n",
    "res = engine.execute(text(query_des), descript=description)"
   ]
  },
  {
   "cell_type": "code",
   "execution_count": null,
   "metadata": {
    "slideshow": {
     "slide_type": "slide"
    }
   },
   "outputs": [],
   "source": [
    "descriptions = res.fetchall()\n",
    "descriptions"
   ]
  },
  {
   "cell_type": "code",
   "execution_count": null,
   "metadata": {
    "collapsed": true,
    "slideshow": {
     "slide_type": "slide"
    }
   },
   "outputs": [],
   "source": [
    "query_package=\"\"\"\n",
    "    SELECT \n",
    "                a.packages, \n",
    "                similarity(lower(a.packages), :p) as similarity \n",
    "    FROM        pypi as a \n",
    "    WHERE       lower(a.packages) % :p\n",
    "    ORDER BY    similarity DESC\"\"\""
   ]
  },
  {
   "cell_type": "code",
   "execution_count": null,
   "metadata": {
    "slideshow": {
     "slide_type": "slide"
    }
   },
   "outputs": [],
   "source": [
    "pk = \"fuzzysearch\"\n",
    "res = engine.execute(text(query_package), p=pk)\n",
    "packages = res.fetchall()\n",
    "packages"
   ]
  },
  {
   "cell_type": "code",
   "execution_count": null,
   "metadata": {},
   "outputs": [],
   "source": [
    "for elem in packages:\n",
    "    if elem[1]>=0.5:\n",
    "        print(elem)"
   ]
  },
  {
   "cell_type": "markdown",
   "metadata": {
    "slideshow": {
     "slide_type": "notes"
    }
   },
   "source": [
    "heuristics = for both fields over \n",
    "heuristics - well different situations have differnet codes - statistical model leveraging the trigram score as a feature\n",
    "(back to slides here)"
   ]
  },
  {
   "cell_type": "markdown",
   "metadata": {
    "collapsed": true,
    "slideshow": {
     "slide_type": "slide"
    }
   },
   "source": [
    "**Other Similarity Metrics**\n",
    "- NLTK: wordnet\n",
    "- Word2Vec: uses cosine distance\n",
    "    - cosine distance between two vectors\n"
   ]
  },
  {
   "cell_type": "code",
   "execution_count": null,
   "metadata": {
    "slideshow": {
     "slide_type": "notes"
    }
   },
   "outputs": [],
   "source": [
    "from nltk.corpus import wordnet\n"
   ]
  },
  {
   "cell_type": "code",
   "execution_count": null,
   "metadata": {
    "slideshow": {
     "slide_type": "notes"
    }
   },
   "outputs": [],
   "source": [
    "word1 = wordnet.synsets(\"blue\")\n",
    "word2 = wordnet.synsets(\"green\")"
   ]
  },
  {
   "cell_type": "code",
   "execution_count": null,
   "metadata": {
    "slideshow": {
     "slide_type": "notes"
    }
   },
   "outputs": [],
   "source": [
    "word1[0].wup_similarity(word2[0])"
   ]
  },
  {
   "cell_type": "code",
   "execution_count": null,
   "metadata": {
    "collapsed": true,
    "slideshow": {
     "slide_type": "skip"
    }
   },
   "outputs": [],
   "source": [
    "#sample data set from: http://mattmahoney.net/dc/text8.zip\n",
    "import word2vec\n",
    "word2vec.word2phrase('text/text8', 'text/text8-phrases', verbose=True)\n",
    "word2vec.word2vec('text/text8-phrases', 'text/text8.bin', size=100, verbose=True)"
   ]
  },
  {
   "cell_type": "code",
   "execution_count": null,
   "metadata": {
    "slideshow": {
     "slide_type": "slide"
    }
   },
   "outputs": [],
   "source": [
    "import word2vec\n",
    "model = word2vec.load('text/text8.bin')\n",
    "model['coffee']"
   ]
  },
  {
   "cell_type": "code",
   "execution_count": null,
   "metadata": {
    "collapsed": true,
    "slideshow": {
     "slide_type": "slide"
    }
   },
   "outputs": [],
   "source": [
    "def get_similar_words(word):\n",
    "    indexes, metrics = model.cosine(word)\n",
    "    return model.generate_response(indexes, metrics).tolist()"
   ]
  },
  {
   "cell_type": "code",
   "execution_count": null,
   "metadata": {},
   "outputs": [],
   "source": [
    "get_similar_words('coffee')"
   ]
  },
  {
   "cell_type": "code",
   "execution_count": null,
   "metadata": {
    "slideshow": {
     "slide_type": "slide"
    }
   },
   "outputs": [],
   "source": [
    "indexes, metrics = model.analogy(pos=[\"coffee\", \"night\"], neg=[\"day\"], n=10)\n",
    "model.generate_response(indexes, metrics).tolist()"
   ]
  },
  {
   "cell_type": "code",
   "execution_count": null,
   "metadata": {
    "collapsed": true,
    "slideshow": {
     "slide_type": "slide"
    }
   },
   "outputs": [],
   "source": [
    "#analogy\n",
    "#sun + cold - warm\n",
    "indexes, metrics = model.analogy(pos=[\"sun\", \"cold\"], neg=[\"warm\"], n=10)"
   ]
  },
  {
   "cell_type": "code",
   "execution_count": null,
   "metadata": {},
   "outputs": [],
   "source": [
    "model.generate_response(indexes, metrics).tolist()"
   ]
  }
 ],
 "metadata": {
  "celltoolbar": "Slideshow",
  "kernelspec": {
   "display_name": "Python 3",
   "language": "python",
   "name": "python3"
  },
  "language_info": {
   "codemirror_mode": {
    "name": "ipython",
    "version": 3
   },
   "file_extension": ".py",
   "mimetype": "text/x-python",
   "name": "python",
   "nbconvert_exporter": "python",
   "pygments_lexer": "ipython3",
   "version": "3.6.1"
  }
 },
 "nbformat": 4,
 "nbformat_minor": 1
}
